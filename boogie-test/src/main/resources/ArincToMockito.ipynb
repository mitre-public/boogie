{
 "cells": [
  {
   "cell_type": "code",
   "execution_count": 1,
   "metadata": {},
   "outputs": [
    {
     "name": "stdout",
     "output_type": "stream",
     "text": [
      "Could not find artifact commons-codec:commons-codec:pom:1.16-20210806.145637-57 in mitre-snapshots (https://dali.mitre.org/nexus/content/repositories/mitre-caasd-snapshots)\n",
      "Retrieving commons-codec/commons-codec/1.16-SNAPSHOT/commons-codec-1.16-20210806.145637-57.pom (16k)\n",
      "    from https://repository.apache.org/snapshots/\n",
      "Retrieving org/mitre/caasd/caasd-project/0.1.3-SNAPSHOT/maven-metadata.xml (1k)\n",
      "    from https://dali.mitre.org/nexus/content/repositories/mitre-caasd-snapshots/\n",
      "Retrieving org/mitre/caasd/jhlabs/proj4-library/1.0.6.1-SNAPSHOT/maven-metadata.xml (1k)\n",
      "    from https://dali.mitre.org/nexus/content/repositories/mitre-caasd-snapshots/\n"
     ]
    },
    {
     "data": {
      "text/plain": [
       "{\u001b[34m:configuration\u001b[0m\n",
       " #object[org.apache.hadoop.conf.Configuration 0x718f3d21 \"\u001b[31m\\\"Configuration: core-default.xml, core-site.xml, mapred-default.xml, mapred-site.xml, yarn-default.xml, yarn-site.xml, hdfs-default.xml, hdfs-site.xml\\\"\u001b[0m\"],\n",
       " \u001b[34m:meta-repository\u001b[0m\n",
       " #object[org.mitre.cda.hbase.HBaseMetaRepository 0x1d487096 \"\u001b[31m\\\"HBaseMetaRepository[tdp:3.1-meta]\\\"\u001b[0m\"],\n",
       " \u001b[34m:hbase-repository\u001b[0m\n",
       " #object[org.mitre.cda.core.CachingKeyDereferencer 0x32f5d8f0 \"\u001b[31m\\\"org.mitre.cda.core.CachingKeyDereferencer@32f5d8f0\\\"\u001b[0m\"]}\n"
      ]
     },
     "execution_count": 1,
     "metadata": {},
     "output_type": "execute_result"
    }
   ],
   "source": [
    "(do \n",
    "    (require `serpent.core)\n",
    "    (require `serpent.pprint)\n",
    "    (require `serpent.jupyter)\n",
    "    (serpent.core/configure)\n",
    "    (add-dependencies [org.mitre.tdp/ttfs-workflow \"3.1.25\" :exclusions [[net.sf.jsi/jsi]]])\n",
    "    (set-cda-config :root \"tdp:3.1\"))"
   ]
  },
  {
   "cell_type": "code",
   "execution_count": 2,
   "metadata": {},
   "outputs": [
    {
     "data": {
      "text/plain": [
       "(\u001b[31m\"com.google.guava:guava:23.0\"\u001b[0m\n",
       " \u001b[31m\"net.java.dev.jets3t:jets3t:0.9.4\"\u001b[0m\n",
       " \u001b[31m\"org.json:json:20140107\"\u001b[0m\n",
       " \u001b[31m\"org.apache.commons:commons-math3:3.4.1\"\u001b[0m\n",
       " \u001b[31m\"org.codehaus.mojo:animal-sniffer-annotations:1.14\"\u001b[0m\n",
       " \u001b[31m\"com.google.errorprone:error_prone_annotations:2.0.18\"\u001b[0m\n",
       " \u001b[31m\"org.codehaus.jackson:jackson-xc:1.9.13\"\u001b[0m\n",
       " \u001b[31m\"org.apache.commons:commons-math:2.2\"\u001b[0m\n",
       " \u001b[31m\"org.scala-lang:scala-reflect:2.11.8\"\u001b[0m\n",
       " \u001b[31m\"org.apache.httpcomponents:httpcore:4.4.1\"\u001b[0m\n",
       " \u001b[31m\"com.google.j2objc:j2objc-annotations:1.1\"\u001b[0m\n",
       " \u001b[31m\"commons-cli:commons-cli:1.2\"\u001b[0m\n",
       " \u001b[31m\"com.google.code.findbugs:jsr305:1.3.9\"\u001b[0m\n",
       " \u001b[31m\"org.objenesis:objenesis:2.1\"\u001b[0m\n",
       " \u001b[31m\"joda-time:joda-time:2.9.4\"\u001b[0m\n",
       " \u001b[31m\"com.jamesmurty.utils:java-xmlbuilder:1.1\"\u001b[0m\n",
       " \u001b[31m\"net.iharder:base64:2.3.8\"\u001b[0m\n",
       " \u001b[31m\"commons-logging:commons-logging:1.2\"\u001b[0m\n",
       " \u001b[31m\"commons-codec:commons-codec:1.9\"\u001b[0m\n",
       " \u001b[31m\"org.scala-lang:scala-library:2.11.8\"\u001b[0m\n",
       " ...)\n"
      ]
     },
     "execution_count": 2,
     "metadata": {},
     "output_type": "execute_result"
    }
   ],
   "source": [
    "(add-dependencies [org.mitre.tdp/ttfs-procedure \"3.1.25\" :exclusions [[net.sf.jsi/jsi]]])\n",
    "(add-dependencies [org.mitre.tdp/tdp-infrastructure \"3.1.25\" :exclusions [[net.sf.jsi/jsi]]])"
   ]
  },
  {
   "cell_type": "code",
   "execution_count": 3,
   "metadata": {},
   "outputs": [
    {
     "data": {
      "text/plain": [
       "org.mitre.caasd.ttfs.ArincAirport\n"
      ]
     },
     "execution_count": 3,
     "metadata": {},
     "output_type": "execute_result"
    }
   ],
   "source": [
    "(import org.mitre.caasd.ttfs.ArincTransition\n",
    "        org.mitre.caasd.ttfs.ArincFix\n",
    "        org.mitre.caasd.ttfs.ArincAirway\n",
    "        org.mitre.caasd.ttfs.ArincAirport)"
   ]
  },
  {
   "cell_type": "code",
   "execution_count": 4,
   "metadata": {},
   "outputs": [
    {
     "data": {
      "text/plain": [
       "\u001b[31m\"Transitions: 61338 Fixes: 67911 Airways: 1550 Airports: 13765\"\u001b[0m\n"
      ]
     },
     "execution_count": 4,
     "metadata": {},
     "output_type": "execute_result"
    }
   ],
   "source": [
    ";; data is small we can just materialize an entire cycle\n",
    "(def cyc 20210101)\n",
    "\n",
    "(def transitions (load-data ArincTransition :dates cyc :only \"CIFP\"))\n",
    "(def fixes (load-data ArincFix :dates cyc :only \"CIFP\"))\n",
    "(def airways (load-data ArincAirway :dates cyc :only \"CIFP\"))\n",
    "(def airports (load-data ArincAirport :dates cyc :only \"CIFP\"))\n",
    "\n",
    "(str \"Transitions: \" (count transitions) \" Fixes: \" (count fixes) \" Airways: \" (count airways) \" Airports: \" (count airports))"
   ]
  },
  {
   "cell_type": "markdown",
   "metadata": {},
   "source": [
    "### Helper Functions"
   ]
  },
  {
   "cell_type": "code",
   "execution_count": 5,
   "metadata": {
    "jupyter": {
     "source_hidden": true
    }
   },
   "outputs": [
    {
     "data": {
      "text/plain": [
       "#'user/cda-key->string\n"
      ]
     },
     "execution_count": 5,
     "metadata": {},
     "output_type": "execute_result"
    }
   ],
   "source": [
    ";; Grab all the transitions\n",
    "(defn null-or-equals [e v]\n",
    "    (or (= nil v) (= e nil) (= e v)))\n",
    "\n",
    "(defn proc-filter [pname & kwargs]\n",
    "    (let [{:keys [airport source] :or {airport nil source nil} :as opts} kwargs]\n",
    "        (fn [p] (and \n",
    "                    (null-or-equals airport ((comp :name :airport) p)) \n",
    "                    (null-or-equals pname (:procedure_name p))\n",
    "                    (null-or-equals source (:navigation_source p))))))\n",
    "\n",
    "(defn fix-filter [col]\n",
    "    (fn [f] \n",
    "        (some #(= % ((comp :name :identification) f)) col)))\n",
    "\n",
    "(defn airway-filter [awname & kwargs]\n",
    "    (let [{:keys [entry exit area-code source]\n",
    "           :or {entry nil\n",
    "                exit nil\n",
    "                area-code nil\n",
    "                source nil}\n",
    "           :as opts}\n",
    "          kwargs]\n",
    "        (fn [a] (and\n",
    "                    (null-or-equals awname ((comp :name :identification) a))\n",
    "                    (some #(null-or-equals entry ((comp :name :identification :path_terminator) %)) (:points a))\n",
    "                    (some #(null-or-equals exit ((comp :name :identification :path_terminator) %)) (:points a))\n",
    "                    (null-or-equals area-code ((comp :customer_area_code :arinc_record_info) a))\n",
    "                    (null-or-equals source ((comp :source :arinc_record_info) a))))))\n",
    "\n",
    "(defn peek? [ele f] (f ele) ele)\n",
    "\n",
    "(defn cda-key->string [k] (.toString (.getPrimaryKey k)))"
   ]
  },
  {
   "cell_type": "markdown",
   "metadata": {},
   "source": [
    "### Airway Mocking"
   ]
  },
  {
   "cell_type": "code",
   "execution_count": 6,
   "metadata": {},
   "outputs": [
    {
     "data": {
      "text/plain": [
       "#'user/airwayy\n"
      ]
     },
     "execution_count": 6,
     "metadata": {},
     "output_type": "execute_result"
    }
   ],
   "source": [
    "(def airwayy (->> airways (filter #(= \"Q6\" (:identifier %)))))"
   ]
  },
  {
   "cell_type": "code",
   "execution_count": 7,
   "metadata": {},
   "outputs": [
    {
     "data": {
      "text/plain": [
       "#'user/toMockitoAirwayBody\n"
      ]
     },
     "execution_count": 7,
     "metadata": {},
     "output_type": "execute_result"
    }
   ],
   "source": [
    "(defn fixName [leg] (str ((comp :name :identification :path_terminator) leg)))\n",
    "(defn fixLatLon [leg] (let [latitude ((comp :latitude :path_terminator) leg)\n",
    "                            longitude ((comp :longitude :path_terminator) leg)]\n",
    "                          (str \" , \" latitude \" , \" longitude)))\n",
    "(defn toMockitoAirwayBody [airway]\n",
    "    (let [body (reduce str (->> (:legs airway)\n",
    "     (map #(str \"Leg \" (fixName %) \"= TF( \\\"\" (fixName %) \"\\\"\" (fixLatLon %) \"); \\n\"))))]\n",
    "    (str body \" - primary_key \" (cda-key->string (:primary_key airway)) \"\\n\")))"
   ]
  },
  {
   "cell_type": "code",
   "execution_count": 8,
   "metadata": {},
   "outputs": [
    {
     "data": {
      "text/plain": [
       "(\u001b[31m\"Leg TKA= TF( \"TKA\" , 62.29837777777777 , -150.10524999999998); \n",
       "Leg JOKAP= TF( \"JOKAP\" , 63.91291111111111 , -150.97479166666668); \n",
       "Leg KUTDE= TF( \"KUTDE\" , 66.32227499999999 , -152.48358055555553); \n",
       "Leg LACIL= TF( \"LACIL\" , 69.504975 , -155.00948055555557); \n",
       "Leg BRW= TF( \"BRW\" , 71.27342777777778 , -156.78811666666667); \n",
       " - primary_key 4-2YeCFS_9AAAJZ\n",
       "\"\u001b[0m)\n"
      ]
     },
     "execution_count": 8,
     "metadata": {},
     "output_type": "execute_result"
    }
   ],
   "source": [
    "(->> airwayy (map toMockitoAirwayBody))"
   ]
  },
  {
   "cell_type": "markdown",
   "metadata": {},
   "source": [
    "### Transition Mocking"
   ]
  },
  {
   "cell_type": "markdown",
   "metadata": {},
   "source": [
    "#### Procedures By Airport"
   ]
  },
  {
   "cell_type": "code",
   "execution_count": 10,
   "metadata": {},
   "outputs": [
    {
     "data": {
      "text/plain": [
       "{\u001b[31m\"HAALO2\"\u001b[0m 9,\n",
       " \u001b[31m\"R27R\"\u001b[0m 4,\n",
       " \u001b[31m\"H28-Z\"\u001b[0m 4,\n",
       " \u001b[31m\"NASSA2\"\u001b[0m 12,\n",
       " \u001b[31m\"L08R\"\u001b[0m 4,\n",
       " \u001b[31m\"H26RZ\"\u001b[0m 4,\n",
       " \u001b[31m\"OZZZI1\"\u001b[0m 14,\n",
       " \u001b[31m\"KAJIN2\"\u001b[0m 10,\n",
       " \u001b[31m\"PHIIL2\"\u001b[0m 10,\n",
       " \u001b[31m\"WIGLE2\"\u001b[0m 7,\n",
       " \u001b[31m\"L10\"\u001b[0m 4,\n",
       " \u001b[31m\"I26L\"\u001b[0m 4,\n",
       " \u001b[31m\"GAIRY2\"\u001b[0m 10,\n",
       " \u001b[31m\"R09L\"\u001b[0m 4,\n",
       " \u001b[31m\"JJEDI2\"\u001b[0m 8,\n",
       " \u001b[31m\"R26RY\"\u001b[0m 4,\n",
       " \u001b[31m\"ZELAN4\"\u001b[0m 8,\n",
       " \u001b[31m\"R26L\"\u001b[0m 4,\n",
       " \u001b[31m\"R09R\"\u001b[0m 4,\n",
       " \u001b[31m\"L27L\"\u001b[0m 4,\n",
       " \u001b[31m\"R28-Y\"\u001b[0m 4,\n",
       " \u001b[31m\"PLMMR2\"\u001b[0m 10,\n",
       " \u001b[31m\"I26R\"\u001b[0m 4,\n",
       " \u001b[31m\"JACCC2\"\u001b[0m 10,\n",
       " \u001b[31m\"SITTH2\"\u001b[0m 11,\n",
       " \u001b[31m\"ATL9\"\u001b[0m 16,\n",
       " \u001b[31m\"L09R\"\u001b[0m 4,\n",
       " \u001b[31m\"SMLTZ2\"\u001b[0m 9,\n",
       " \u001b[31m\"I08R\"\u001b[0m 4,\n",
       " \u001b[31m\"SINCA6\"\u001b[0m 6,\n",
       " \u001b[31m\"LGC5\"\u001b[0m 4,\n",
       " \u001b[31m\"H10-Z\"\u001b[0m 4,\n",
       " \u001b[31m\"VARNM2\"\u001b[0m 10,\n",
       " \u001b[31m\"I09L\"\u001b[0m 4,\n",
       " \u001b[31m\"I08L\"\u001b[0m 4,\n",
       " \u001b[31m\"L09L\"\u001b[0m 4,\n",
       " \u001b[31m\"I10\"\u001b[0m 4,\n",
       " \u001b[31m\"CUTTN2\"\u001b[0m 10,\n",
       " \u001b[31m\"POUNC2\"\u001b[0m 11,\n",
       " \u001b[31m\"R10-Y\"\u001b[0m 4,\n",
       " \u001b[31m\"R27L\"\u001b[0m 4,\n",
       " \u001b[31m\"SMKEY2\"\u001b[0m 9,\n",
       " \u001b[31m\"I09R\"\u001b[0m 4,\n",
       " \u001b[31m\"GLAVN1\"\u001b[0m 12,\n",
       " \u001b[31m\"WHINZ4\"\u001b[0m 4,\n",
       " \u001b[31m\"L28\"\u001b[0m 4,\n",
       " \u001b[31m\"L26L\"\u001b[0m 4,\n",
       " \u001b[31m\"BANNG2\"\u001b[0m 9,\n",
       " \u001b[31m\"I27R\"\u001b[0m 4,\n",
       " \u001b[31m\"CHPPR1\"\u001b[0m 12,\n",
       " \u001b[31m\"HOBTT2\"\u001b[0m 14,\n",
       " \u001b[31m\"I27L\"\u001b[0m 4,\n",
       " \u001b[31m\"L27R\"\u001b[0m 4,\n",
       " \u001b[31m\"PENCL2\"\u001b[0m 11,\n",
       " \u001b[31m\"PADGT2\"\u001b[0m 10,\n",
       " \u001b[31m\"L26R\"\u001b[0m 4,\n",
       " \u001b[31m\"GNDLF2\"\u001b[0m 11,\n",
       " \u001b[31m\"I28\"\u001b[0m 4,\n",
       " \u001b[31m\"L08L\"\u001b[0m 4,\n",
       " \u001b[31m\"R08R\"\u001b[0m 4,\n",
       " \u001b[31m\"RMG6\"\u001b[0m 3,\n",
       " \u001b[31m\"H08LZ\"\u001b[0m 4,\n",
       " \u001b[31m\"VRSTY2\"\u001b[0m 9,\n",
       " \u001b[31m\"ONDRE1\"\u001b[0m 13,\n",
       " \u001b[31m\"R08LY\"\u001b[0m 4}\n"
      ]
     },
     "execution_count": 10,
     "metadata": {},
     "output_type": "execute_result"
    }
   ],
   "source": [
    "(def airport-transitions (->> transitions (filter #(= \"KATL\" ((comp :name :airport) %)))))\n",
    "(frequencies (map :procedure_name airport-transitions))"
   ]
  },
  {
   "cell_type": "code",
   "execution_count": 11,
   "metadata": {},
   "outputs": [
    {
     "data": {
      "text/plain": [
       "\u001b[31m\"total transitions: 10\"\u001b[0m\n"
      ]
     },
     "execution_count": 11,
     "metadata": {},
     "output_type": "execute_result"
    }
   ],
   "source": [
    "(def proc-trans (filter (proc-filter \"PLMMR2\" :airport \"KATL\" :source \"CIFP\") transitions))\n",
    "(str \"total transitions: \" (count proc-trans))"
   ]
  },
  {
   "cell_type": "code",
   "execution_count": 12,
   "metadata": {},
   "outputs": [
    {
     "data": {
      "text/plain": [
       "\u001b[31m\"4mIH87B6x_AAGOb,4mIH87B6x_AAGOc,4mIH87B6x_AAGOd,4mIH87B6x_AAGOe,4mIH87B6x_AAGOf,4mIH87B6x_AAGOg,4mIH87B6x_AAGOh,4mIH87B6x_AAGOi,4mIH87B6x_AAGOj,4mIH87B6x_AAGOk\"\u001b[0m\n"
      ]
     },
     "execution_count": 12,
     "metadata": {},
     "output_type": "execute_result"
    }
   ],
   "source": [
    "(clojure.string/join \",\" (map (comp str get-key :primary_key) proc-trans))"
   ]
  },
  {
   "cell_type": "code",
   "execution_count": 13,
   "metadata": {},
   "outputs": [
    {
     "data": {
      "text/plain": [
       "(\u001b[36mKey<4pvX1Gw_G4AAB_M>\u001b[0m)\n"
      ]
     },
     "execution_count": 13,
     "metadata": {},
     "output_type": "execute_result"
    }
   ],
   "source": [
    "(map :primary_key (filter #(= \"KATL\" ((comp :name :identification) %)) airports))"
   ]
  },
  {
   "cell_type": "code",
   "execution_count": 45,
   "metadata": {},
   "outputs": [
    {
     "data": {
      "text/plain": [
       "\u001b[31mRecord\u001b[0m\n",
       "{\u001b[34m:primary_key\u001b[0m \u001b[36mKey<4Fk9t23D4DAAARe>\u001b[0m,\n",
       " \u001b[34m:icao_identifier\u001b[0m \u001b[31m\"KMCO\"\u001b[0m}\n"
      ]
     },
     "execution_count": 45,
     "metadata": {},
     "output_type": "execute_result"
    }
   ],
   "source": [
    "(first (load-data org.mitre.caasd.ttfs.NfdcAirport :dates cyc :columns [:primary_key [:icao_identifier = \"KMCO\"]]))"
   ]
  },
  {
   "cell_type": "markdown",
   "metadata": {},
   "source": [
    "#### Mocking That Business"
   ]
  },
  {
   "cell_type": "code",
   "execution_count": 15,
   "metadata": {
    "jupyter": {
     "source_hidden": true
    }
   },
   "outputs": [
    {
     "data": {
      "text/plain": [
       "#'user/mockitizeMeCaptain\n"
      ]
     },
     "execution_count": 15,
     "metadata": {},
     "output_type": "execute_result"
    }
   ],
   "source": [
    "(defn toMockitoTransitionBody [transition]\n",
    "    (reduce str (->> (:legs transition)\n",
    "     (map #(str \"Leg \" (fixName %) \"=\" (:leg_type %) \" ( \\\"\" (fixName %) \"\\\"\" (fixLatLon %) \"); \\n\")))))\n",
    "\n",
    "(defn toMockitoTransitionMethod [transition] \n",
    "    (let [tname (:transition_name transition)\n",
    "          pname (:procedure_name transition)\n",
    "          aname ((comp :name :airport) transition)]\n",
    "        (str \"private static Transition \" (:transition_name transition) \"(){\\n\"\n",
    "         (toMockitoTransitionBody transition)\n",
    "         \"return transition(\\\"\" tname \"\\\",\\\"\" pname \"\\\",\\\"\" aname \"\\\",,,);\\n}\")))\n",
    "\n",
    "(defn mockitizeMeCaptain [transitions]\n",
    "    (reduce str (->> transitions (map #(str (toMockitoTransitionMethod %) \"\\n\")))))"
   ]
  },
  {
   "cell_type": "code",
   "execution_count": 16,
   "metadata": {},
   "outputs": [
    {
     "data": {
      "text/plain": [
       "\u001b[31m\"private static Transition RW28(){\n",
       "Leg =VI ( \"\" ,  , ); \n",
       "Leg WLSON=CF ( \"WLSON\" , 33.573975000000004 , -84.58462499999999); \n",
       "Leg ZALLE=TF ( \"ZALLE\" , 33.45709166666667 , -84.58449444444445); \n",
       "Leg GGOLF=TF ( \"GGOLF\" , 33.45582777777778 , -84.33613333333332); \n",
       "Leg PLMMR=TF ( \"PLMMR\" , 33.952822222222224 , -83.72700555555556); \n",
       "return transition(\"RW28\",\"PLMMR2\",\"KATL\",,,);\n",
       "}\n",
       "private static Transition RW10(){\n",
       "Leg =VI ( \"\" ,  , ); \n",
       "Leg GRITZ=CF ( \"GRITZ\" , 33.60214444444445 , -84.2763361111111); \n",
       "Leg DDUBB=TF ( \"DDUBB\" , 33.567025 , -84.08201388888888); \n",
       "Leg PLMMR=TF ( \"PLMMR\" , 33.952822222222224 , -83.72700555555556); \n",
       "return transition(\"RW10\",\"PLMMR2\",\"KATL\",,,);\n",
       "}\n",
       "private static Transition RW09B(){\n",
       "Leg =VA ( \"\" ,  , ); \n",
       "Leg LIDAS=DF ( \"LIDAS\" , 33.63363611111111 , -84.26920277777778); \n",
       "Leg ERWIN=TF ( \"ERWIN\" , 33.634166666666665 , -84.10055555555554); \n",
       "Leg PLMMR=TF ( \"PLMMR\" , 33.952822222222224 , -83.72700555555556); \n",
       "return transition(\"RW09B\",\"PLMMR2\",\"KATL\",,,);\n",
       "}\n",
       "private static Transition SPA(){\n",
       "Leg PLMMR=IF ( \"PLMMR\" , 33.952822222222224 , -83.72700555555556); \n",
       "Leg TENSE=TF ( \"TENSE\" , 34.30863055555555 , -83.14446666666667); \n",
       "Leg NWANT=TF ( \"NWANT\" , 34.66439722222222 , -82.55944722222222); \n",
       "Leg SPA=TF ( \"SPA\" , 35.033625 , -81.92701111111111); \n",
       "return transition(\"SPA\",\"PLMMR2\",\"KATL\",,,);\n",
       "}\n",
       "private static Transition RW27L(){\n",
       "Leg =VI ( \"\" ,  , ); \n",
       "Leg FUTBL=CF ( \"FUTBL\" , 33.58815555555556 , -84.58463888888889); \n",
       "Leg ZALLE=TF ( \"ZALLE\" , 33.45709166666667 , -84.58449444444445); \n",
       "Leg GGOLF=TF ( \"GGOLF\" , 33.45582777777778 , -84.33613333333332); \n",
       "Leg PLMMR=TF ( \"PLMMR\" , 33.952822222222224 , -83.72700555555556); \n",
       "return transition(\"RW27L\",\"PLMMR2\",\"KATL\",,,);\n",
       "}\n",
       "private static Transition RW08L(){\n",
       "Leg =VI ( \"\" ,  , ); \n",
       "Leg RONII=CF ( \"RONII\" , 33.684866666666665 , -84.17909166666666); \n",
       "Leg IGEBE=TF ( \"IGEBE\" , 33.73305 , -84.0372388888889); \n",
       "Leg PLMMR=TF ( \"PLMMR\" , 33.952822222222224 , -83.72700555555556); \n",
       "return transition(\"RW08L\",\"PLMMR2\",\"KATL\",,,);\n",
       "}\n",
       "private static Transition RW26R(){\n",
       "Leg =VI ( \"\" ,  , ); \n",
       "Leg MPASS=CF ( \"MPASS\" , 33.693038888888886 , -84.58203055555555); \n",
       "Leg ZELAN=TF ( \"ZELAN\" , 33.811277777777775 , -84.58069444444445); \n",
       "Leg SMOGG=TF ( \"SMOGG\" , 33.81305277777778 , -84.34001111111111); \n",
       "Leg DLLNN=TF ( \"DLLNN\" , 33.89196666666667 , -83.90228055555556); \n",
       "Leg PLMMR=TF ( \"PLMMR\" , 33.952822222222224 , -83.72700555555556); \n",
       "return transition(\"RW26R\",\"PLMMR2\",\"KATL\",,,);\n",
       "}\n",
       "private static Transition RW27R(){\n",
       "Leg =VI ( \"\" ,  , ); \n",
       "Leg FUTBL=CF ( \"FUTBL\" , 33.58815555555556 , -84.58463888888889); \n",
       "Leg ZALLE=TF ( \"ZALLE\" , 33.45709166666667 , -84.58449444444445); \n",
       "Leg GGOLF=TF ( \"GGOLF\" , 33.45582777777778 , -84.33613333333332); \n",
       "Leg PLMMR=TF ( \"PLMMR\" , 33.952822222222224 , -83.72700555555556); \n",
       "return transition(\"RW27R\",\"PLMMR2\",\"KATL\",,,);\n",
       "}\n",
       "private static Transition RW26L(){\n",
       "Leg =VI ( \"\" ,  , ); \n",
       "Leg MPASS=CF ( \"MPASS\" , 33.693038888888886 , -84.58203055555555); \n",
       "Leg ZELAN=TF ( \"ZELAN\" , 33.811277777777775 , -84.58069444444445); \n",
       "Leg SMOGG=TF ( \"SMOGG\" , 33.81305277777778 , -84.34001111111111); \n",
       "Leg DLLNN=TF ( \"DLLNN\" , 33.89196666666667 , -83.90228055555556); \n",
       "Leg PLMMR=TF ( \"PLMMR\" , 33.952822222222224 , -83.72700555555556); \n",
       "return transition(\"RW26L\",\"PLMMR2\",\"KATL\",,,);\n",
       "}\n",
       "private static Transition RW08R(){\n",
       "Leg =VI ( \"\" ,  , ); \n",
       "Leg RONII=CF ( \"RONII\" , 33.684866666666665 , -84.17909166666666); \n",
       "Leg IGEBE=TF ( \"IGEBE\" , 33.73305 , -84.0372388888889); \n",
       "Leg PLMMR=TF ( \"PLMMR\" , 33.952822222222224 , -83.72700555555556); \n",
       "return transition(\"RW08R\",\"PLMMR2\",\"KATL\",,,);\n",
       "}\n",
       "\"\u001b[0m\n"
      ]
     },
     "execution_count": 16,
     "metadata": {},
     "output_type": "execute_result"
    }
   ],
   "source": [
    "(mockitizeMeCaptain proc-trans)"
   ]
  },
  {
   "cell_type": "code",
   "execution_count": null,
   "metadata": {},
   "outputs": [],
   "source": []
  }
 ],
 "metadata": {
  "kernelspec": {
   "display_name": "clojure",
   "language": "clojure",
   "name": "serpent"
  },
  "language_info": {
   "file_extension": ".clj",
   "mimetype": "text/x-clojure",
   "name": "clojure",
   "version": "1.10.1"
  }
 },
 "nbformat": 4,
 "nbformat_minor": 4
}
