{
 "cells": [
  {
   "cell_type": "code",
   "execution_count": 1,
   "metadata": {
    "collapsed": true,
    "jupyter": {
     "outputs_hidden": true
    }
   },
   "outputs": [
    {
     "name": "stdout",
     "output_type": "stream",
     "text": [
      "Retrieving org/mitre/tdp/ttfs-workflow/3.1.28/ttfs-workflow-3.1.28.pom (30k)\n",
      "    from https://dali.mitre.org/nexus/content/repositories/mitre-caasd-releases/\n",
      "Retrieving org/mitre/tdp/tdp-parent/3.1.28/tdp-parent-3.1.28.pom (13k)\n",
      "    from https://dali.mitre.org/nexus/content/repositories/mitre-caasd-releases/\n",
      "Retrieving org/mitre/cda/cda-parent/1.4.50/cda-parent-1.4.50.pom (14k)\n",
      "    from https://dali.mitre.org/nexus/content/repositories/mitre-caasd-releases/\n",
      "Retrieving org/mitre/cda/cda-engine/1.4.50/cda-engine-1.4.50.pom (3k)\n",
      "    from https://dali.mitre.org/nexus/content/repositories/mitre-caasd-releases/\n",
      "Retrieving org/mitre/cda/cda-core/1.4.50/cda-core-1.4.50.pom (3k)\n",
      "    from https://dali.mitre.org/nexus/content/repositories/mitre-caasd-releases/\n",
      "Retrieving org/mitre/tdp/tdp-trajectory/3.1.28/tdp-trajectory-3.1.28.pom (20k)\n",
      "    from https://dali.mitre.org/nexus/content/repositories/mitre-caasd-releases/\n",
      "Retrieving org/mitre/cda/cda-workflow/1.4.50/cda-workflow-1.4.50.pom (4k)\n",
      "    from https://dali.mitre.org/nexus/content/repositories/mitre-caasd-releases/\n",
      "Retrieving org/mitre/cda/cda-hbase/1.4.50/cda-hbase-1.4.50.pom (3k)\n",
      "    from https://dali.mitre.org/nexus/content/repositories/mitre-caasd-releases/\n",
      "Retrieving org/mitre/cda/cda-spark/1.4.50/cda-spark-1.4.50.pom (4k)\n",
      "    from https://dali.mitre.org/nexus/content/repositories/mitre-caasd-releases/\n",
      "Retrieving org/mitre/cda/cda-dynamodb/1.4.50/cda-dynamodb-1.4.50.pom (2k)\n",
      "    from https://dali.mitre.org/nexus/content/repositories/mitre-caasd-releases/\n",
      "Retrieving org/mitre/cda/cda-aws/1.4.50/cda-aws-1.4.50.pom (2k)\n",
      "    from https://dali.mitre.org/nexus/content/repositories/mitre-caasd-releases/\n",
      "Retrieving org/mitre/cda/cda-sqoop/1.4.50/cda-sqoop-1.4.50.pom (3k)\n",
      "    from https://dali.mitre.org/nexus/content/repositories/mitre-caasd-releases/\n",
      "Retrieving org/mitre/tdp/ttfs-core/3.1.28/ttfs-core-3.1.28.pom (17k)\n",
      "    from https://dali.mitre.org/nexus/content/repositories/mitre-caasd-releases/\n",
      "Retrieving org/mitre/tdp/tdp-aircraft/3.1.28/tdp-aircraft-3.1.28.pom (6k)\n",
      "    from https://dali.mitre.org/nexus/content/repositories/mitre-caasd-releases/\n",
      "Retrieving org/mitre/caasd/commons/0.0.44/commons-0.0.44.pom (3k)\n",
      "    from https://dali.mitre.org/nexus/content/repositories/mitre-caasd-releases/\n",
      "Retrieving org/mitre/tdp/boogie-core/0.0.91.1/boogie-core-0.0.91.1.pom (3k)\n",
      "    from https://dali.mitre.org/nexus/content/repositories/mitre-caasd-releases/\n",
      "Retrieving org/mitre/tdp/ttfs-cms/3.1.28/ttfs-cms-3.1.28.pom (8k)\n",
      "    from https://dali.mitre.org/nexus/content/repositories/mitre-caasd-releases/\n",
      "Retrieving org/mitre/tdp/ttfs-tfm-flight/3.1.28/ttfs-tfm-flight-3.1.28.pom (10k)\n",
      "    from https://dali.mitre.org/nexus/content/repositories/mitre-caasd-releases/\n",
      "Retrieving org/mitre/tdp/tdp-infrastructure/3.1.28/tdp-infrastructure-3.1.28.pom (15k)\n",
      "    from https://dali.mitre.org/nexus/content/repositories/mitre-caasd-releases/\n",
      "Retrieving org/mitre/tdp/tdp-weather/3.1.28/tdp-weather-3.1.28.pom (6k)\n",
      "    from https://dali.mitre.org/nexus/content/repositories/mitre-caasd-releases/\n",
      "Retrieving org/mitre/tdp/boogie-routes/0.0.91.1/boogie-routes-0.0.91.1.pom (2k)\n",
      "    from https://dali.mitre.org/nexus/content/repositories/mitre-caasd-releases/\n",
      "Retrieving org/mitre/tdp/boogie-conformance/0.0.91.1/boogie-conformance-0.0.91.1.pom (2k)\n",
      "    from https://dali.mitre.org/nexus/content/repositories/mitre-caasd-releases/\n",
      "Retrieving org/mitre/tdp/boogie-arinc/0.0.91.1/boogie-arinc-0.0.91.1.pom (2k)\n",
      "    from https://dali.mitre.org/nexus/content/repositories/mitre-caasd-releases/\n",
      "Retrieving org/mitre/tdp/whisper-core/0.0.15/whisper-core-0.0.15.pom (5k)\n",
      "    from https://dali.mitre.org/nexus/content/repositories/mitre-caasd-releases/\n",
      "Retrieving net/bramp/ffmpeg/ffmpeg-mitre/0.8.0/ffmpeg-mitre-0.8.0.pom (27k)\n",
      "    from https://dali.mitre.org/nexus/content/repositories/mitre-caasd-releases/\n",
      "Retrieving org/mitre/caasd/asterix/asterix_2.11/0.0.7/asterix_2.11-0.0.7.pom (2k)\n",
      "    from https://dali.mitre.org/nexus/content/repositories/mitre-caasd-releases/\n",
      "Could not find artifact org.scala-lang.modules:scala-java8-compat_2.11:pom:1.0.0 in mitre-releases (https://dali.mitre.org/nexus/content/repositories/mitre-caasd-releases)\n",
      "Could not find artifact org.scala-lang.modules:scala-java8-compat_2.11:pom:1.0.0 in mitre-snapshots (https://dali.mitre.org/nexus/content/repositories/mitre-caasd-snapshots)\n",
      "Retrieving org/scala-lang/modules/scala-java8-compat_2.11/1.0.0/scala-java8-compat_2.11-1.0.0.pom (2k)\n",
      "    from https://dali.mitre.org/nexus/content/groups/proxied-repositories/\n",
      "Could not find artifact org.scodec:scodec-bits_2.11:pom:1.1.27 in mitre-releases (https://dali.mitre.org/nexus/content/repositories/mitre-caasd-releases)\n",
      "Could not find artifact org.scodec:scodec-bits_2.11:pom:1.1.27 in mitre-snapshots (https://dali.mitre.org/nexus/content/repositories/mitre-caasd-snapshots)\n",
      "Retrieving org/scodec/scodec-bits_2.11/1.1.27/scodec-bits_2.11-1.1.27.pom (2k)\n",
      "    from https://dali.mitre.org/nexus/content/groups/proxied-repositories/\n",
      "Could not find artifact org.scalactic:scalactic_2.11:pom:3.2.9 in mitre-releases (https://dali.mitre.org/nexus/content/repositories/mitre-caasd-releases)\n",
      "Could not find artifact org.scalactic:scalactic_2.11:pom:3.2.9 in mitre-snapshots (https://dali.mitre.org/nexus/content/repositories/mitre-caasd-snapshots)\n",
      "Retrieving org/scalactic/scalactic_2.11/3.2.9/scalactic_2.11-3.2.9.pom (2k)\n",
      "    from https://dali.mitre.org/nexus/content/groups/proxied-repositories/\n",
      "Could not find artifact co.fs2:fs2-io_2.11:pom:2.1.0 in mitre-releases (https://dali.mitre.org/nexus/content/repositories/mitre-caasd-releases)\n",
      "Could not find artifact co.fs2:fs2-io_2.11:pom:2.1.0 in mitre-snapshots (https://dali.mitre.org/nexus/content/repositories/mitre-caasd-snapshots)\n",
      "Retrieving co/fs2/fs2-io_2.11/2.1.0/fs2-io_2.11-2.1.0.pom (3k)\n",
      "    from https://dali.mitre.org/nexus/content/groups/proxied-repositories/\n",
      "Could not find artifact co.fs2:fs2-core_2.11:pom:2.1.0 in mitre-releases (https://dali.mitre.org/nexus/content/repositories/mitre-caasd-releases)\n",
      "Could not find artifact co.fs2:fs2-core_2.11:pom:2.1.0 in mitre-snapshots (https://dali.mitre.org/nexus/content/repositories/mitre-caasd-snapshots)\n",
      "Retrieving co/fs2/fs2-core_2.11/2.1.0/fs2-core_2.11-2.1.0.pom (3k)\n",
      "    from https://dali.mitre.org/nexus/content/groups/proxied-repositories/\n",
      "Retrieving org/mitre/tdp/tdp-airborne-metrics/3.1.28/tdp-airborne-metrics-3.1.28.pom (12k)\n",
      "    from https://dali.mitre.org/nexus/content/repositories/mitre-caasd-releases/\n",
      "Retrieving org/mitre/tdp/ttfs-airspace/3.1.28/ttfs-airspace-3.1.28.pom (8k)\n",
      "    from https://dali.mitre.org/nexus/content/repositories/mitre-caasd-releases/\n",
      "Retrieving org/mitre/tdp/ttfs-airborne-weather/3.1.28/ttfs-airborne-weather-3.1.28.pom (8k)\n",
      "    from https://dali.mitre.org/nexus/content/repositories/mitre-caasd-releases/\n",
      "Retrieving org/mitre/caasd/caasd-project/0.1.3-SNAPSHOT/maven-metadata.xml (1k)\n",
      "    from https://dali.mitre.org/nexus/content/repositories/mitre-caasd-snapshots/\n",
      "Retrieving org/mitre/tdp/tdp-voice/3.1.28/tdp-voice-3.1.28.pom (14k)\n",
      "    from https://dali.mitre.org/nexus/content/repositories/mitre-caasd-releases/\n",
      "Retrieving org/mitre/tdp/ttfs-procedure/3.1.28/ttfs-procedure-3.1.28.pom (17k)\n",
      "    from https://dali.mitre.org/nexus/content/repositories/mitre-caasd-releases/\n",
      "Retrieving org/mitre/tdp/tdp-airport-metrics/3.1.28/tdp-airport-metrics-3.1.28.pom (7k)\n",
      "    from https://dali.mitre.org/nexus/content/repositories/mitre-caasd-releases/\n",
      "Retrieving org/mitre/tdp/kaldi-transcription/0.0.15/kaldi-transcription-0.0.15.pom (4k)\n",
      "    from https://dali.mitre.org/nexus/content/repositories/mitre-caasd-releases/\n",
      "Retrieving org/mitre/tdp/sphinx-diarization/0.0.15/sphinx-diarization-0.0.15.pom (4k)\n",
      "    from https://dali.mitre.org/nexus/content/repositories/mitre-caasd-releases/\n",
      "Retrieving org/mitre/tdp/whisper-kaldi-resources/0.0.8/whisper-kaldi-resources-0.0.8.pom (2k)\n",
      "    from https://dali.mitre.org/nexus/content/repositories/mitre-caasd-releases/\n",
      "Retrieving org/mitre/tdp/ttfs-tfm-flow/3.1.28/ttfs-tfm-flow-3.1.28.pom (12k)\n",
      "    from https://dali.mitre.org/nexus/content/repositories/mitre-caasd-releases/\n",
      "Retrieving org/mitre/tdp/ttfs-notams/3.1.28/ttfs-notams-3.1.28.pom (8k)\n",
      "    from https://dali.mitre.org/nexus/content/repositories/mitre-caasd-releases/\n",
      "Retrieving org/mitre/tdp/ttfs-paired-proximity/3.1.28/ttfs-paired-proximity-3.1.28.pom (9k)\n",
      "    from https://dali.mitre.org/nexus/content/repositories/mitre-caasd-releases/\n",
      "Retrieving org/mitre/tdp/ttfs-scheduling/3.1.28/ttfs-scheduling-3.1.28.pom (8k)\n",
      "    from https://dali.mitre.org/nexus/content/repositories/mitre-caasd-releases/\n",
      "Retrieving org/mitre/tdp/ttfs-atop/3.1.28/ttfs-atop-3.1.28.pom (9k)\n",
      "    from https://dali.mitre.org/nexus/content/repositories/mitre-caasd-releases/\n",
      "Retrieving org/mitre/tdp/ttfs-odo/3.1.28/ttfs-odo-3.1.28.pom (12k)\n",
      "    from https://dali.mitre.org/nexus/content/repositories/mitre-caasd-releases/\n",
      "Retrieving org/mitre/tdp/ttfs-approach/3.1.28/ttfs-approach-3.1.28.pom (10k)\n",
      "    from https://dali.mitre.org/nexus/content/repositories/mitre-caasd-releases/\n",
      "Retrieving org/mitre/tdp/ttfs-registration/3.1.28/ttfs-registration-3.1.28.pom (6k)\n",
      "    from https://dali.mitre.org/nexus/content/repositories/mitre-caasd-releases/\n",
      "Retrieving org/mitre/tdp/ttfs-mgfi/3.1.28/ttfs-mgfi-3.1.28.pom (7k)\n",
      "    from https://dali.mitre.org/nexus/content/repositories/mitre-caasd-releases/\n",
      "Retrieving org/mitre/tdp/ttfs-tbfm/3.1.28/ttfs-tbfm-3.1.28.pom (8k)\n",
      "    from https://dali.mitre.org/nexus/content/repositories/mitre-caasd-releases/\n",
      "Retrieving org/mitre/tdp/ttfs-afs-climbgradient/3.1.28/ttfs-afs-climbgradient-3.1.28.pom (9k)\n",
      "    from https://dali.mitre.org/nexus/content/repositories/mitre-caasd-releases/\n",
      "Retrieving org/mitre/caasd/jhlabs/proj4-library/1.0.6.1-SNAPSHOT/maven-metadata.xml (1k)\n",
      "    from https://dali.mitre.org/nexus/content/repositories/mitre-caasd-snapshots/\n",
      "Retrieving org/mitre/tdp/ttfs-datis/3.1.28/ttfs-datis-3.1.28.pom (7k)\n",
      "    from https://dali.mitre.org/nexus/content/repositories/mitre-caasd-releases/\n",
      "Retrieving org/mitre/tdp/ttfs-amoss/3.1.28/ttfs-amoss-3.1.28.pom (8k)\n",
      "    from https://dali.mitre.org/nexus/content/repositories/mitre-caasd-releases/\n",
      "Retrieving org/mitre/caasd/asterix/asterix-avro/0.0.7/asterix-avro-0.0.7.pom (1k)\n",
      "    from https://dali.mitre.org/nexus/content/repositories/mitre-caasd-releases/\n",
      "Could not find artifact org.apache.avro:avro:pom:1.10.2 in mitre-releases (https://dali.mitre.org/nexus/content/repositories/mitre-caasd-releases)\n",
      "Could not find artifact org.apache.avro:avro:pom:1.10.2 in mitre-snapshots (https://dali.mitre.org/nexus/content/repositories/mitre-caasd-snapshots)\n",
      "Retrieving org/apache/avro/avro/1.10.2/avro-1.10.2.pom (9k)\n",
      "    from https://dali.mitre.org/nexus/content/groups/proxied-repositories/\n",
      "Could not find artifact org.apache.avro:avro-parent:pom:1.10.2 in mitre-releases (https://dali.mitre.org/nexus/content/repositories/mitre-caasd-releases)\n",
      "Could not find artifact org.apache.avro:avro-parent:pom:1.10.2 in mitre-snapshots (https://dali.mitre.org/nexus/content/repositories/mitre-caasd-snapshots)\n",
      "Retrieving org/apache/avro/avro-parent/1.10.2/avro-parent-1.10.2.pom (22k)\n",
      "    from https://dali.mitre.org/nexus/content/groups/proxied-repositories/\n",
      "Could not find artifact org.apache.avro:avro-toplevel:pom:1.10.2 in mitre-releases (https://dali.mitre.org/nexus/content/repositories/mitre-caasd-releases)\n",
      "Could not find artifact org.apache.avro:avro-toplevel:pom:1.10.2 in mitre-snapshots (https://dali.mitre.org/nexus/content/repositories/mitre-caasd-snapshots)\n",
      "Retrieving org/apache/avro/avro-toplevel/1.10.2/avro-toplevel-1.10.2.pom (20k)\n",
      "    from https://dali.mitre.org/nexus/content/groups/proxied-repositories/\n",
      "Could not find artifact com.fasterxml.jackson.core:jackson-core:pom:2.12.2 in mitre-releases (https://dali.mitre.org/nexus/content/repositories/mitre-caasd-releases)\n",
      "Could not find artifact com.fasterxml.jackson.core:jackson-core:pom:2.12.2 in mitre-snapshots (https://dali.mitre.org/nexus/content/repositories/mitre-caasd-snapshots)\n",
      "Retrieving com/fasterxml/jackson/core/jackson-core/2.12.2/jackson-core-2.12.2.pom (5k)\n",
      "    from https://dali.mitre.org/nexus/content/groups/proxied-repositories/\n",
      "Could not find artifact com.fasterxml.jackson:jackson-base:pom:2.12.2 in mitre-releases (https://dali.mitre.org/nexus/content/repositories/mitre-caasd-releases)\n",
      "Could not find artifact com.fasterxml.jackson:jackson-base:pom:2.12.2 in mitre-snapshots (https://dali.mitre.org/nexus/content/repositories/mitre-caasd-snapshots)\n",
      "Retrieving com/fasterxml/jackson/jackson-base/2.12.2/jackson-base-2.12.2.pom (9k)\n",
      "    from https://dali.mitre.org/nexus/content/groups/proxied-repositories/\n",
      "Could not find artifact com.fasterxml.jackson:jackson-bom:pom:2.12.2 in mitre-releases (https://dali.mitre.org/nexus/content/repositories/mitre-caasd-releases)\n",
      "Could not find artifact com.fasterxml.jackson:jackson-bom:pom:2.12.2 in mitre-snapshots (https://dali.mitre.org/nexus/content/repositories/mitre-caasd-snapshots)\n",
      "Retrieving com/fasterxml/jackson/jackson-bom/2.12.2/jackson-bom-2.12.2.pom (17k)\n",
      "    from https://dali.mitre.org/nexus/content/groups/proxied-repositories/\n",
      "Could not find artifact com.fasterxml.jackson.core:jackson-databind:pom:2.12.2 in mitre-releases (https://dali.mitre.org/nexus/content/repositories/mitre-caasd-releases)\n",
      "Could not find artifact com.fasterxml.jackson.core:jackson-databind:pom:2.12.2 in mitre-snapshots (https://dali.mitre.org/nexus/content/repositories/mitre-caasd-snapshots)\n",
      "Retrieving com/fasterxml/jackson/core/jackson-databind/2.12.2/jackson-databind-2.12.2.pom (14k)\n",
      "    from https://dali.mitre.org/nexus/content/groups/proxied-repositories/\n",
      "Could not find artifact com.fasterxml.jackson.core:jackson-annotations:pom:2.12.2 in mitre-releases (https://dali.mitre.org/nexus/content/repositories/mitre-caasd-releases)\n",
      "Could not find artifact com.fasterxml.jackson.core:jackson-annotations:pom:2.12.2 in mitre-snapshots (https://dali.mitre.org/nexus/content/repositories/mitre-caasd-snapshots)\n",
      "Retrieving com/fasterxml/jackson/core/jackson-annotations/2.12.2/jackson-annotations-2.12.2.pom (6k)\n",
      "    from https://dali.mitre.org/nexus/content/groups/proxied-repositories/\n",
      "Retrieving org/mitre/tdp/ttfs-asqp/3.1.28/ttfs-asqp-3.1.28.pom (5k)\n",
      "    from https://dali.mitre.org/nexus/content/repositories/mitre-caasd-releases/\n",
      "Retrieving org/mitre/tdp/ttfs-tailnumber-fusion/3.1.28/ttfs-tailnumber-fusion-3.1.28.pom (10k)\n",
      "    from https://dali.mitre.org/nexus/content/repositories/mitre-caasd-releases/\n",
      "Retrieving org/mitre/tdp/tdp-sensitive/3.1.28/tdp-sensitive-3.1.28.pom (7k)\n",
      "    from https://dali.mitre.org/nexus/content/repositories/mitre-caasd-releases/\n",
      "Retrieving org/mitre/tdp/tdp-reports/3.1.28/tdp-reports-3.1.28.pom (6k)\n",
      "    from https://dali.mitre.org/nexus/content/repositories/mitre-caasd-releases/\n"
     ]
    },
    {
     "data": {
      "text/plain": [
       "{\u001b[34m:configuration\u001b[0m\n",
       " #object[org.apache.hadoop.conf.Configuration 0xdcd5740 \"\u001b[31m\\\"Configuration: core-default.xml, core-site.xml, mapred-default.xml, mapred-site.xml, yarn-default.xml, yarn-site.xml, hdfs-default.xml, hdfs-site.xml\\\"\u001b[0m\"],\n",
       " \u001b[34m:meta-repository\u001b[0m\n",
       " #object[org.mitre.cda.hbase.HBaseMetaRepository 0x6b3a2251 \"\u001b[31m\\\"HBaseMetaRepository[tdp:3.1-meta]\\\"\u001b[0m\"],\n",
       " \u001b[34m:hbase-repository\u001b[0m\n",
       " #object[org.mitre.cda.core.CachingKeyDereferencer 0x7757b7a3 \"\u001b[31m\\\"org.mitre.cda.core.CachingKeyDereferencer@7757b7a3\\\"\u001b[0m\"]}\n"
      ]
     },
     "execution_count": 1,
     "metadata": {},
     "output_type": "execute_result"
    }
   ],
   "source": [
    "(do \n",
    "    (require `serpent.core)\n",
    "    (require `serpent.pprint)\n",
    "    (require `serpent.jupyter)\n",
    "    (serpent.core/configure)\n",
    "    (add-dependencies [org.mitre.tdp/ttfs-workflow \"3.1.28\" :exclusions [[net.sf.jsi/jsi]]])\n",
    "    (set-cda-config :root \"tdp:3.1\"))"
   ]
  },
  {
   "cell_type": "code",
   "execution_count": 2,
   "metadata": {},
   "outputs": [
    {
     "data": {
      "text/plain": [
       "(\u001b[31m\"com.google.guava:guava:23.0\"\u001b[0m\n",
       " \u001b[31m\"net.java.dev.jets3t:jets3t:0.9.4\"\u001b[0m\n",
       " \u001b[31m\"org.json:json:20140107\"\u001b[0m\n",
       " \u001b[31m\"org.apache.commons:commons-math3:3.4.1\"\u001b[0m\n",
       " \u001b[31m\"org.codehaus.mojo:animal-sniffer-annotations:1.14\"\u001b[0m\n",
       " \u001b[31m\"com.google.errorprone:error_prone_annotations:2.0.18\"\u001b[0m\n",
       " \u001b[31m\"org.codehaus.jackson:jackson-xc:1.9.13\"\u001b[0m\n",
       " \u001b[31m\"org.apache.commons:commons-math:2.2\"\u001b[0m\n",
       " \u001b[31m\"org.scala-lang:scala-reflect:2.11.8\"\u001b[0m\n",
       " \u001b[31m\"org.apache.httpcomponents:httpcore:4.4.1\"\u001b[0m\n",
       " \u001b[31m\"com.google.j2objc:j2objc-annotations:1.1\"\u001b[0m\n",
       " \u001b[31m\"commons-cli:commons-cli:1.2\"\u001b[0m\n",
       " \u001b[31m\"com.google.code.findbugs:jsr305:1.3.9\"\u001b[0m\n",
       " \u001b[31m\"org.objenesis:objenesis:2.1\"\u001b[0m\n",
       " \u001b[31m\"joda-time:joda-time:2.9.4\"\u001b[0m\n",
       " \u001b[31m\"com.jamesmurty.utils:java-xmlbuilder:1.1\"\u001b[0m\n",
       " \u001b[31m\"net.iharder:base64:2.3.8\"\u001b[0m\n",
       " \u001b[31m\"commons-logging:commons-logging:1.2\"\u001b[0m\n",
       " \u001b[31m\"commons-codec:commons-codec:1.9\"\u001b[0m\n",
       " \u001b[31m\"org.scala-lang:scala-library:2.11.8\"\u001b[0m\n",
       " ...)\n"
      ]
     },
     "execution_count": 2,
     "metadata": {},
     "output_type": "execute_result"
    }
   ],
   "source": [
    "(add-dependencies [org.mitre.tdp/ttfs-procedure \"3.1.28\" :exclusions [[net.sf.jsi/jsi]]])\n",
    "(add-dependencies [org.mitre.tdp/tdp-infrastructure \"3.1.28\" :exclusions [[net.sf.jsi/jsi]]])"
   ]
  },
  {
   "cell_type": "code",
   "execution_count": 4,
   "metadata": {},
   "outputs": [
    {
     "data": {
      "text/plain": [
       "org.mitre.caasd.ttfs.ArincAirport\n"
      ]
     },
     "execution_count": 4,
     "metadata": {},
     "output_type": "execute_result"
    }
   ],
   "source": [
    "(import org.mitre.caasd.ttfs.ArincTransition\n",
    "        org.mitre.caasd.ttfs.ArincFix\n",
    "        org.mitre.caasd.ttfs.ArincAirway\n",
    "        org.mitre.caasd.ttfs.ArincAirport)"
   ]
  },
  {
   "cell_type": "code",
   "execution_count": 5,
   "metadata": {},
   "outputs": [
    {
     "data": {
      "text/plain": [
       "\u001b[31m\"Transitions: 61338 Fixes: 67911 Airways: 1550 Airports: 13765\"\u001b[0m\n"
      ]
     },
     "execution_count": 5,
     "metadata": {},
     "output_type": "execute_result"
    }
   ],
   "source": [
    ";; data is small we can just materialize an entire cycle\n",
    "(def cyc 20210101)\n",
    "\n",
    "(def transitions (load-data ArincTransition :dates cyc :only \"CIFP\"))\n",
    "(def fixes (load-data ArincFix :dates cyc :only \"CIFP\"))\n",
    "(def airways (load-data ArincAirway :dates cyc :only \"CIFP\"))\n",
    "(def airports (load-data ArincAirport :dates cyc :only \"CIFP\"))\n",
    "\n",
    "(str \"Transitions: \" (count transitions) \" Fixes: \" (count fixes) \" Airways: \" (count airways) \" Airports: \" (count airports))"
   ]
  },
  {
   "cell_type": "markdown",
   "metadata": {},
   "source": [
    "### Helper Functions"
   ]
  },
  {
   "cell_type": "code",
   "execution_count": 18,
   "metadata": {},
   "outputs": [
    {
     "data": {
      "text/plain": [
       "#'user/toMockitoAirwayBody\n"
      ]
     },
     "execution_count": 18,
     "metadata": {},
     "output_type": "execute_result"
    }
   ],
   "source": [
    ";; Grab all the transitions\n",
    "(defn null-or-equals [e v]\n",
    "    (or (= nil v) (= e nil) (= e v)))\n",
    "\n",
    "(defn proc-filter [pname & kwargs]\n",
    "    (let [{:keys [airport source] :or {airport nil source nil} :as opts} kwargs]\n",
    "        (fn [p] (and \n",
    "                    (null-or-equals airport ((comp :name :airport) p)) \n",
    "                    (null-or-equals pname (:procedure_name p))\n",
    "                    (null-or-equals source (:navigation_source p))))))\n",
    "\n",
    "(defn fix-filter [col]\n",
    "    (fn [f] \n",
    "        (some #(= % ((comp :name :identification) f)) col)))\n",
    "\n",
    "(defn airway-filter [awname & kwargs]\n",
    "    (let [{:keys [entry exit area-code source]\n",
    "           :or {entry nil\n",
    "                exit nil\n",
    "                area-code nil\n",
    "                source nil}\n",
    "           :as opts}\n",
    "          kwargs]\n",
    "        (fn [a] (and\n",
    "                    (null-or-equals awname ((comp :name :identification) a))\n",
    "                    (some #(null-or-equals entry ((comp :name :identification :path_terminator) %)) (:points a))\n",
    "                    (some #(null-or-equals exit ((comp :name :identification :path_terminator) %)) (:points a))\n",
    "                    (null-or-equals area-code ((comp :customer_area_code :arinc_record_info) a))\n",
    "                    (null-or-equals source ((comp :source :arinc_record_info) a))))))\n",
    "\n",
    "(defn peek? [ele f] (f ele) ele)\n",
    "\n",
    "(defn cda-key->string [k] (.toString (.getPrimaryKey k)))\n",
    "\n",
    "(defn fixName [leg] (str ((comp :name :identification :path_terminator) leg)))\n",
    "(defn fixLatLon [leg] (let [latitude ((comp :latitude :path_terminator) leg)\n",
    "                            longitude ((comp :longitude :path_terminator) leg)]\n",
    "                          (str \" , \" latitude \" , \" longitude)))\n",
    "(defn toMockitoAirwayBody [airway]\n",
    "    (let [body (reduce str (->> (:legs airway)\n",
    "     (map #(str \"Leg \" (fixName %) \"= TF( \\\"\" (fixName %) \"\\\"\" (fixLatLon %) \"); \\n\"))))]\n",
    "    (str body \" - primary_key \" (cda-key->string (:primary_key airway)) \"\\n\")))"
   ]
  },
  {
   "cell_type": "markdown",
   "metadata": {},
   "source": [
    "### Airway Mocking"
   ]
  },
  {
   "cell_type": "code",
   "execution_count": 6,
   "metadata": {},
   "outputs": [
    {
     "data": {
      "text/plain": [
       "#'user/airwayy\n"
      ]
     },
     "execution_count": 6,
     "metadata": {},
     "output_type": "execute_result"
    }
   ],
   "source": [
    "(def airwayy (->> airways (filter #(= \"Q6\" (:identifier %)))))"
   ]
  },
  {
   "cell_type": "code",
   "execution_count": 8,
   "metadata": {},
   "outputs": [
    {
     "data": {
      "text/plain": [
       "(\u001b[31m\"Leg TKA= TF( \"TKA\" , 62.29837777777777 , -150.10524999999998); \n",
       "Leg JOKAP= TF( \"JOKAP\" , 63.91291111111111 , -150.97479166666668); \n",
       "Leg KUTDE= TF( \"KUTDE\" , 66.32227499999999 , -152.48358055555553); \n",
       "Leg LACIL= TF( \"LACIL\" , 69.504975 , -155.00948055555557); \n",
       "Leg BRW= TF( \"BRW\" , 71.27342777777778 , -156.78811666666667); \n",
       " - primary_key 4-2YeCFS_9AAAJZ\n",
       "\"\u001b[0m)\n"
      ]
     },
     "execution_count": 8,
     "metadata": {},
     "output_type": "execute_result"
    }
   ],
   "source": [
    "(->> airwayy (map toMockitoAirwayBody))"
   ]
  },
  {
   "cell_type": "markdown",
   "metadata": {},
   "source": [
    "### Transition Mocking"
   ]
  },
  {
   "cell_type": "markdown",
   "metadata": {},
   "source": [
    "#### Procedures By Airport"
   ]
  },
  {
   "cell_type": "code",
   "execution_count": 7,
   "metadata": {},
   "outputs": [
    {
     "data": {
      "text/plain": [
       "{\u001b[31m\"H34CZ\"\u001b[0m 4,\n",
       " \u001b[31m\"I34R\"\u001b[0m 5,\n",
       " \u001b[31m\"L16L\"\u001b[0m 6,\n",
       " \u001b[31m\"EPH8\"\u001b[0m 4,\n",
       " \u001b[31m\"SEA7\"\u001b[0m 6,\n",
       " \u001b[31m\"L16C\"\u001b[0m 6,\n",
       " \u001b[31m\"JAWBN6\"\u001b[0m 6,\n",
       " \u001b[31m\"HAWKZ7\"\u001b[0m 8,\n",
       " \u001b[31m\"ISBRG1\"\u001b[0m 4,\n",
       " \u001b[31m\"H34RZ\"\u001b[0m 3,\n",
       " \u001b[31m\"CHINS4\"\u001b[0m 6,\n",
       " \u001b[31m\"H16CZ\"\u001b[0m 6,\n",
       " \u001b[31m\"R16RY\"\u001b[0m 4,\n",
       " \u001b[31m\"I34C\"\u001b[0m 4,\n",
       " \u001b[31m\"R34CY\"\u001b[0m 4,\n",
       " \u001b[31m\"OLM2\"\u001b[0m 5,\n",
       " \u001b[31m\"R16LY\"\u001b[0m 4,\n",
       " \u001b[31m\"MARNR7\"\u001b[0m 8,\n",
       " \u001b[31m\"L34L\"\u001b[0m 4,\n",
       " \u001b[31m\"MONTN1\"\u001b[0m 6,\n",
       " \u001b[31m\"OZWLD1\"\u001b[0m 4,\n",
       " \u001b[31m\"I16C\"\u001b[0m 6,\n",
       " \u001b[31m\"I16L\"\u001b[0m 6,\n",
       " \u001b[31m\"SUMMA2\"\u001b[0m 8,\n",
       " \u001b[31m\"L34R\"\u001b[0m 5,\n",
       " \u001b[31m\"R34RY\"\u001b[0m 4,\n",
       " \u001b[31m\"GLASR1\"\u001b[0m 8,\n",
       " \u001b[31m\"R16CY\"\u001b[0m 4,\n",
       " \u001b[31m\"H34LZ\"\u001b[0m 4,\n",
       " \u001b[31m\"L16R\"\u001b[0m 6,\n",
       " \u001b[31m\"I34L\"\u001b[0m 4,\n",
       " \u001b[31m\"H16LZ\"\u001b[0m 4,\n",
       " \u001b[31m\"H16RZ\"\u001b[0m 6,\n",
       " \u001b[31m\"R34LY\"\u001b[0m 4,\n",
       " \u001b[31m\"JEFPO1\"\u001b[0m 4,\n",
       " \u001b[31m\"HAROB6\"\u001b[0m 10,\n",
       " \u001b[31m\"BANGR9\"\u001b[0m 8,\n",
       " \u001b[31m\"I16R\"\u001b[0m 6,\n",
       " \u001b[31m\"L34C\"\u001b[0m 4,\n",
       " \u001b[31m\"ELMAA3\"\u001b[0m 6}\n"
      ]
     },
     "execution_count": 7,
     "metadata": {},
     "output_type": "execute_result"
    }
   ],
   "source": [
    "(def airport-transitions (->> transitions (filter #(= \"KSEA\" ((comp :name :airport) %)))))\n",
    "(frequencies (map :procedure_name airport-transitions))"
   ]
  },
  {
   "cell_type": "code",
   "execution_count": 8,
   "metadata": {},
   "outputs": [
    {
     "data": {
      "text/plain": [
       "\u001b[31m\"total transitions: 8\"\u001b[0m\n"
      ]
     },
     "execution_count": 8,
     "metadata": {},
     "output_type": "execute_result"
    }
   ],
   "source": [
    "(def proc-trans (filter (proc-filter \"SUMMA2\" :airport \"KSEA\" :source \"CIFP\") transitions))\n",
    "(str \"total transitions: \" (count proc-trans))"
   ]
  },
  {
   "cell_type": "code",
   "execution_count": 9,
   "metadata": {},
   "outputs": [
    {
     "data": {
      "text/plain": [
       "\u001b[31m\"4mIH87B6x_AANyt,4mIH87B6x_AANyu,4mIH87B6x_AANyv,4mIH87B6x_AANyw,4mIH87B6x_AANyx,4mIH87B6x_AANyy,4mIH87B6x_AANyz,4mIH87B6x_AANy0\"\u001b[0m\n"
      ]
     },
     "execution_count": 9,
     "metadata": {},
     "output_type": "execute_result"
    }
   ],
   "source": [
    "(clojure.string/join \",\" (map (comp str get-key :primary_key) proc-trans))"
   ]
  },
  {
   "cell_type": "code",
   "execution_count": 10,
   "metadata": {},
   "outputs": [
    {
     "data": {
      "text/plain": [
       "(\u001b[36mKey<4pvX1Gw_G4AACbj>\u001b[0m)\n"
      ]
     },
     "execution_count": 10,
     "metadata": {},
     "output_type": "execute_result"
    }
   ],
   "source": [
    "(map :primary_key (filter #(= \"KSEA\" ((comp :name :identification) %)) airports))"
   ]
  },
  {
   "cell_type": "code",
   "execution_count": 11,
   "metadata": {},
   "outputs": [
    {
     "data": {
      "text/plain": [
       "\u001b[31mRecord\u001b[0m\n",
       "{\u001b[34m:primary_key\u001b[0m \u001b[36mKey<4Fk9t23D4DAABNw>\u001b[0m,\n",
       " \u001b[34m:icao_identifier\u001b[0m \u001b[31m\"KSEA\"\u001b[0m,\n",
       " \u001b[34m:ref_point_latitude\u001b[0m 47.449889,\n",
       " \u001b[34m:ref_point_longitude\u001b[0m -122.311778}\n"
      ]
     },
     "execution_count": 11,
     "metadata": {},
     "output_type": "execute_result"
    }
   ],
   "source": [
    "(first (load-data org.mitre.caasd.ttfs.NfdcAirport :dates cyc :columns [:primary_key [:icao_identifier = \"KSEA\"] :ref_point_latitude :ref_point_longitude]))"
   ]
  },
  {
   "cell_type": "markdown",
   "metadata": {},
   "source": [
    "#### Mocking That Business"
   ]
  },
  {
   "cell_type": "code",
   "execution_count": 19,
   "metadata": {},
   "outputs": [
    {
     "data": {
      "text/plain": [
       "#'user/mockitizeMeCaptain\n"
      ]
     },
     "execution_count": 19,
     "metadata": {},
     "output_type": "execute_result"
    }
   ],
   "source": [
    "(defn toMockitoTransitionBody [transition]\n",
    "    (reduce str (->> (:legs transition)\n",
    "     (map #(str \"Leg \" (fixName %) \"=\" (:leg_type %) \" ( \\\"\" (fixName %) \"\\\"\" (fixLatLon %) \"); \\n\")))))\n",
    "\n",
    "(defn toMockitoTransitionMethod [transition] \n",
    "    (let [tname (:transition_name transition)\n",
    "          pname (:procedure_name transition)\n",
    "          aname ((comp :name :airport) transition)]\n",
    "        (str \"private static Transition \" (:transition_name transition) \"(){\\n\"\n",
    "         (toMockitoTransitionBody transition)\n",
    "         \"return transition(\\\"\" tname \"\\\",\\\"\" pname \"\\\",\\\"\" aname \"\\\",,,);\\n}\")))\n",
    "\n",
    "(defn mockitizeMeCaptain [transitions]\n",
    "    (reduce str (->> transitions (map #(str (toMockitoTransitionMethod %) \"\\n\")))))"
   ]
  },
  {
   "cell_type": "code",
   "execution_count": 20,
   "metadata": {},
   "outputs": [
    {
     "data": {
      "text/plain": [
       "\u001b[31m\"private static Transition RW34C(){\n",
       "Leg =VI ( \"\" ,  , ); \n",
       "Leg NEZUG=CF ( \"NEZUG\" , 47.56866666666667 , -122.30966666666666); \n",
       "Leg =VM ( \"\" ,  , ); \n",
       "return transition(\"RW34C\",\"SUMMA2\",\"KSEA\",,,);\n",
       "}\n",
       "private static Transition RW34L(){\n",
       "Leg =VI ( \"\" ,  , ); \n",
       "Leg NEZUG=CF ( \"NEZUG\" , 47.56866666666667 , -122.30966666666666); \n",
       "Leg =VM ( \"\" ,  , ); \n",
       "return transition(\"RW34L\",\"SUMMA2\",\"KSEA\",,,);\n",
       "}\n",
       "private static Transition RW16L(){\n",
       "Leg =VI ( \"\" ,  , ); \n",
       "Leg NEVJO=CF ( \"NEVJO\" , 47.25216666666667 , -122.30966666666666); \n",
       "Leg =VI ( \"\" ,  , ); \n",
       "Leg SUMMA=CF ( \"SUMMA\" , 46.61785833333333 , -121.98832222222222); \n",
       "return transition(\"RW16L\",\"SUMMA2\",\"KSEA\",,,);\n",
       "}\n",
       "private static Transition LKV(){\n",
       "Leg SUMMA=IF ( \"SUMMA\" , 46.61785833333333 , -121.98832222222222); \n",
       "Leg LKV=TF ( \"LKV\" , 42.492844444444444 , -120.50710555555555); \n",
       "return transition(\"LKV\",\"SUMMA2\",\"KSEA\",,,);\n",
       "}\n",
       "private static Transition RW16C(){\n",
       "Leg =VI ( \"\" ,  , ); \n",
       "Leg NEVJO=CF ( \"NEVJO\" , 47.25216666666667 , -122.30966666666666); \n",
       "Leg =VI ( \"\" ,  , ); \n",
       "Leg SUMMA=CF ( \"SUMMA\" , 46.61785833333333 , -121.98832222222222); \n",
       "return transition(\"RW16C\",\"SUMMA2\",\"KSEA\",,,);\n",
       "}\n",
       "private static Transition RW34R(){\n",
       "Leg =VI ( \"\" ,  , ); \n",
       "Leg NEZUG=CF ( \"NEZUG\" , 47.56866666666667 , -122.30966666666666); \n",
       "Leg =VM ( \"\" ,  , ); \n",
       "return transition(\"RW34R\",\"SUMMA2\",\"KSEA\",,,);\n",
       "}\n",
       "private static Transition BKE(){\n",
       "Leg SUMMA=IF ( \"SUMMA\" , 46.61785833333333 , -121.98832222222222); \n",
       "Leg BKE=TF ( \"BKE\" , 44.8406 , -117.80787222222222); \n",
       "return transition(\"BKE\",\"SUMMA2\",\"KSEA\",,,);\n",
       "}\n",
       "private static Transition RW16R(){\n",
       "Leg =VI ( \"\" ,  , ); \n",
       "Leg NEVJO=CF ( \"NEVJO\" , 47.25216666666667 , -122.30966666666666); \n",
       "Leg =VI ( \"\" ,  , ); \n",
       "Leg SUMMA=CF ( \"SUMMA\" , 46.61785833333333 , -121.98832222222222); \n",
       "return transition(\"RW16R\",\"SUMMA2\",\"KSEA\",,,);\n",
       "}\n",
       "\"\u001b[0m\n"
      ]
     },
     "execution_count": 20,
     "metadata": {},
     "output_type": "execute_result"
    }
   ],
   "source": [
    "(mockitizeMeCaptain proc-trans)"
   ]
  },
  {
   "cell_type": "code",
   "execution_count": null,
   "metadata": {},
   "outputs": [],
   "source": []
  }
 ],
 "metadata": {
  "kernelspec": {
   "display_name": "clojure",
   "language": "clojure",
   "name": "serpent"
  },
  "language_info": {
   "file_extension": ".clj",
   "mimetype": "text/x-clojure",
   "name": "clojure",
   "version": "1.10.1"
  }
 },
 "nbformat": 4,
 "nbformat_minor": 4
}
