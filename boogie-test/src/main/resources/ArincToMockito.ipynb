{
 "cells": [
  {
   "cell_type": "code",
   "execution_count": 1,
   "metadata": {},
   "outputs": [
    {
     "name": "stdout",
     "output_type": "stream",
     "text": [
      "Could not find artifact commons-codec:commons-codec:pom:1.16-20210806.145637-57 in mitre-snapshots (https://dali.mitre.org/nexus/content/repositories/mitre-caasd-snapshots)\n",
      "Retrieving commons-codec/commons-codec/1.16-SNAPSHOT/commons-codec-1.16-20210806.145637-57.pom (16k)\n",
      "    from https://repository.apache.org/snapshots/\n",
      "Retrieving org/mitre/caasd/caasd-project/0.1.3-SNAPSHOT/maven-metadata.xml (1k)\n",
      "    from https://dali.mitre.org/nexus/content/repositories/mitre-caasd-snapshots/\n",
      "Retrieving org/mitre/caasd/jhlabs/proj4-library/1.0.6.1-SNAPSHOT/maven-metadata.xml (1k)\n",
      "    from https://dali.mitre.org/nexus/content/repositories/mitre-caasd-snapshots/\n"
     ]
    },
    {
     "data": {
      "text/plain": [
       "{\u001b[34m:configuration\u001b[0m\n",
       " #object[org.apache.hadoop.conf.Configuration 0x718f3d21 \"\u001b[31m\\\"Configuration: core-default.xml, core-site.xml, mapred-default.xml, mapred-site.xml, yarn-default.xml, yarn-site.xml, hdfs-default.xml, hdfs-site.xml\\\"\u001b[0m\"],\n",
       " \u001b[34m:meta-repository\u001b[0m\n",
       " #object[org.mitre.cda.hbase.HBaseMetaRepository 0x1d487096 \"\u001b[31m\\\"HBaseMetaRepository[tdp:3.1-meta]\\\"\u001b[0m\"],\n",
       " \u001b[34m:hbase-repository\u001b[0m\n",
       " #object[org.mitre.cda.core.CachingKeyDereferencer 0x32f5d8f0 \"\u001b[31m\\\"org.mitre.cda.core.CachingKeyDereferencer@32f5d8f0\\\"\u001b[0m\"]}\n"
      ]
     },
     "execution_count": 1,
     "metadata": {},
     "output_type": "execute_result"
    }
   ],
   "source": [
    "(do \n",
    "    (require `serpent.core)\n",
    "    (require `serpent.pprint)\n",
    "    (require `serpent.jupyter)\n",
    "    (serpent.core/configure)\n",
    "    (add-dependencies [org.mitre.tdp/ttfs-workflow \"3.1.25\" :exclusions [[net.sf.jsi/jsi]]])\n",
    "    (set-cda-config :root \"tdp:3.1\"))"
   ]
  },
  {
   "cell_type": "code",
   "execution_count": 2,
   "metadata": {},
   "outputs": [
    {
     "data": {
      "text/plain": [
       "(\u001b[31m\"com.google.guava:guava:23.0\"\u001b[0m\n",
       " \u001b[31m\"net.java.dev.jets3t:jets3t:0.9.4\"\u001b[0m\n",
       " \u001b[31m\"org.json:json:20140107\"\u001b[0m\n",
       " \u001b[31m\"org.apache.commons:commons-math3:3.4.1\"\u001b[0m\n",
       " \u001b[31m\"org.codehaus.mojo:animal-sniffer-annotations:1.14\"\u001b[0m\n",
       " \u001b[31m\"com.google.errorprone:error_prone_annotations:2.0.18\"\u001b[0m\n",
       " \u001b[31m\"org.codehaus.jackson:jackson-xc:1.9.13\"\u001b[0m\n",
       " \u001b[31m\"org.apache.commons:commons-math:2.2\"\u001b[0m\n",
       " \u001b[31m\"org.scala-lang:scala-reflect:2.11.8\"\u001b[0m\n",
       " \u001b[31m\"org.apache.httpcomponents:httpcore:4.4.1\"\u001b[0m\n",
       " \u001b[31m\"com.google.j2objc:j2objc-annotations:1.1\"\u001b[0m\n",
       " \u001b[31m\"commons-cli:commons-cli:1.2\"\u001b[0m\n",
       " \u001b[31m\"com.google.code.findbugs:jsr305:1.3.9\"\u001b[0m\n",
       " \u001b[31m\"org.objenesis:objenesis:2.1\"\u001b[0m\n",
       " \u001b[31m\"joda-time:joda-time:2.9.4\"\u001b[0m\n",
       " \u001b[31m\"com.jamesmurty.utils:java-xmlbuilder:1.1\"\u001b[0m\n",
       " \u001b[31m\"net.iharder:base64:2.3.8\"\u001b[0m\n",
       " \u001b[31m\"commons-logging:commons-logging:1.2\"\u001b[0m\n",
       " \u001b[31m\"commons-codec:commons-codec:1.9\"\u001b[0m\n",
       " \u001b[31m\"org.scala-lang:scala-library:2.11.8\"\u001b[0m\n",
       " ...)\n"
      ]
     },
     "execution_count": 2,
     "metadata": {},
     "output_type": "execute_result"
    }
   ],
   "source": [
    "(add-dependencies [org.mitre.tdp/ttfs-procedure \"3.1.25\" :exclusions [[net.sf.jsi/jsi]]])\n",
    "(add-dependencies [org.mitre.tdp/tdp-infrastructure \"3.1.25\" :exclusions [[net.sf.jsi/jsi]]])"
   ]
  },
  {
   "cell_type": "code",
   "execution_count": 3,
   "metadata": {},
   "outputs": [
    {
     "data": {
      "text/plain": [
       "org.mitre.caasd.ttfs.ArincAirport\n"
      ]
     },
     "execution_count": 3,
     "metadata": {},
     "output_type": "execute_result"
    }
   ],
   "source": [
    "(import org.mitre.caasd.ttfs.ArincTransition\n",
    "        org.mitre.caasd.ttfs.ArincFix\n",
    "        org.mitre.caasd.ttfs.ArincAirway\n",
    "        org.mitre.caasd.ttfs.ArincAirport)"
   ]
  },
  {
   "cell_type": "code",
   "execution_count": 4,
   "metadata": {},
   "outputs": [
    {
     "data": {
      "text/plain": [
       "\u001b[31m\"Transitions: 61338 Fixes: 67911 Airways: 1550 Airports: 13765\"\u001b[0m\n"
      ]
     },
     "execution_count": 4,
     "metadata": {},
     "output_type": "execute_result"
    }
   ],
   "source": [
    ";; data is small we can just materialize an entire cycle\n",
    "(def cyc 20210101)\n",
    "\n",
    "(def transitions (load-data ArincTransition :dates cyc :only \"CIFP\"))\n",
    "(def fixes (load-data ArincFix :dates cyc :only \"CIFP\"))\n",
    "(def airways (load-data ArincAirway :dates cyc :only \"CIFP\"))\n",
    "(def airports (load-data ArincAirport :dates cyc :only \"CIFP\"))\n",
    "\n",
    "(str \"Transitions: \" (count transitions) \" Fixes: \" (count fixes) \" Airways: \" (count airways) \" Airports: \" (count airports))"
   ]
  },
  {
   "cell_type": "markdown",
   "metadata": {},
   "source": [
    "### Helper Functions"
   ]
  },
  {
   "cell_type": "code",
   "execution_count": 5,
   "metadata": {
    "jupyter": {
     "source_hidden": true
    }
   },
   "outputs": [
    {
     "data": {
      "text/plain": [
       "#'user/cda-key->string\n"
      ]
     },
     "execution_count": 5,
     "metadata": {},
     "output_type": "execute_result"
    }
   ],
   "source": [
    ";; Grab all the transitions\n",
    "(defn null-or-equals [e v]\n",
    "    (or (= nil v) (= e nil) (= e v)))\n",
    "\n",
    "(defn proc-filter [pname & kwargs]\n",
    "    (let [{:keys [airport source] :or {airport nil source nil} :as opts} kwargs]\n",
    "        (fn [p] (and \n",
    "                    (null-or-equals airport ((comp :name :airport) p)) \n",
    "                    (null-or-equals pname (:procedure_name p))\n",
    "                    (null-or-equals source (:navigation_source p))))))\n",
    "\n",
    "(defn fix-filter [col]\n",
    "    (fn [f] \n",
    "        (some #(= % ((comp :name :identification) f)) col)))\n",
    "\n",
    "(defn airway-filter [awname & kwargs]\n",
    "    (let [{:keys [entry exit area-code source]\n",
    "           :or {entry nil\n",
    "                exit nil\n",
    "                area-code nil\n",
    "                source nil}\n",
    "           :as opts}\n",
    "          kwargs]\n",
    "        (fn [a] (and\n",
    "                    (null-or-equals awname ((comp :name :identification) a))\n",
    "                    (some #(null-or-equals entry ((comp :name :identification :path_terminator) %)) (:points a))\n",
    "                    (some #(null-or-equals exit ((comp :name :identification :path_terminator) %)) (:points a))\n",
    "                    (null-or-equals area-code ((comp :customer_area_code :arinc_record_info) a))\n",
    "                    (null-or-equals source ((comp :source :arinc_record_info) a))))))\n",
    "\n",
    "(defn peek? [ele f] (f ele) ele)\n",
    "\n",
    "(defn cda-key->string [k] (.toString (.getPrimaryKey k)))"
   ]
  },
  {
   "cell_type": "markdown",
   "metadata": {},
   "source": [
    "### Airway Mocking"
   ]
  },
  {
   "cell_type": "code",
   "execution_count": 6,
   "metadata": {},
   "outputs": [
    {
     "data": {
      "text/plain": [
       "#'user/airwayy\n"
      ]
     },
     "execution_count": 6,
     "metadata": {},
     "output_type": "execute_result"
    }
   ],
   "source": [
    "(def airwayy (->> airways (filter #(= \"Q6\" (:identifier %)))))"
   ]
  },
  {
   "cell_type": "code",
   "execution_count": 7,
   "metadata": {},
   "outputs": [
    {
     "data": {
      "text/plain": [
       "#'user/toMockitoAirwayBody\n"
      ]
     },
     "execution_count": 7,
     "metadata": {},
     "output_type": "execute_result"
    }
   ],
   "source": [
    "(defn fixName [leg] (str ((comp :name :identification :path_terminator) leg)))\n",
    "(defn fixLatLon [leg] (let [latitude ((comp :latitude :path_terminator) leg)\n",
    "                            longitude ((comp :longitude :path_terminator) leg)]\n",
    "                          (str \" , \" latitude \" , \" longitude)))\n",
    "(defn toMockitoAirwayBody [airway]\n",
    "    (let [body (reduce str (->> (:legs airway)\n",
    "     (map #(str \"Leg \" (fixName %) \"= TF( \\\"\" (fixName %) \"\\\"\" (fixLatLon %) \"); \\n\"))))]\n",
    "    (str body \" - primary_key \" (cda-key->string (:primary_key airway)) \"\\n\")))"
   ]
  },
  {
   "cell_type": "code",
   "execution_count": 8,
   "metadata": {},
   "outputs": [
    {
     "data": {
      "text/plain": [
       "(\u001b[31m\"Leg TKA= TF( \"TKA\" , 62.29837777777777 , -150.10524999999998); \n",
       "Leg JOKAP= TF( \"JOKAP\" , 63.91291111111111 , -150.97479166666668); \n",
       "Leg KUTDE= TF( \"KUTDE\" , 66.32227499999999 , -152.48358055555553); \n",
       "Leg LACIL= TF( \"LACIL\" , 69.504975 , -155.00948055555557); \n",
       "Leg BRW= TF( \"BRW\" , 71.27342777777778 , -156.78811666666667); \n",
       " - primary_key 4-2YeCFS_9AAAJZ\n",
       "\"\u001b[0m)\n"
      ]
     },
     "execution_count": 8,
     "metadata": {},
     "output_type": "execute_result"
    }
   ],
   "source": [
    "(->> airwayy (map toMockitoAirwayBody))"
   ]
  },
  {
   "cell_type": "markdown",
   "metadata": {},
   "source": [
    "### Transition Mocking"
   ]
  },
  {
   "cell_type": "markdown",
   "metadata": {},
   "source": [
    "#### Procedures By Airport"
   ]
  },
  {
   "cell_type": "code",
   "execution_count": 17,
   "metadata": {},
   "outputs": [
    {
     "data": {
      "text/plain": [
       "{\u001b[31m\"R27R\"\u001b[0m 3,\n",
       " \u001b[31m\"L17\"\u001b[0m 4,\n",
       " \u001b[31m\"I17-Z\"\u001b[0m 4,\n",
       " \u001b[31m\"H09LZ\"\u001b[0m 3,\n",
       " \u001b[31m\"R26\"\u001b[0m 5,\n",
       " \u001b[31m\"L27L\"\u001b[0m 3,\n",
       " \u001b[31m\"R35\"\u001b[0m 5,\n",
       " \u001b[31m\"PAATS3\"\u001b[0m 9,\n",
       " \u001b[31m\"BUNTS2\"\u001b[0m 3,\n",
       " \u001b[31m\"VCN9\"\u001b[0m 3,\n",
       " \u001b[31m\"I09L\"\u001b[0m 4,\n",
       " \u001b[31m\"BOJID2\"\u001b[0m 6,\n",
       " \u001b[31m\"L26\"\u001b[0m 3,\n",
       " \u001b[31m\"L09L\"\u001b[0m 4,\n",
       " \u001b[31m\"R17\"\u001b[0m 4,\n",
       " \u001b[31m\"R27L\"\u001b[0m 4,\n",
       " \u001b[31m\"SPUDS4\"\u001b[0m 6,\n",
       " \u001b[31m\"I27R\"\u001b[0m 4,\n",
       " \u001b[31m\"I09RZ\"\u001b[0m 3,\n",
       " \u001b[31m\"I27L\"\u001b[0m 3,\n",
       " \u001b[31m\"I26\"\u001b[0m 3,\n",
       " \u001b[31m\"L27R\"\u001b[0m 4,\n",
       " \u001b[31m\"L09RZ\"\u001b[0m 3,\n",
       " \u001b[31m\"R09RY\"\u001b[0m 4,\n",
       " \u001b[31m\"SLATT4\"\u001b[0m 3,\n",
       " \u001b[31m\"R09LY\"\u001b[0m 4,\n",
       " \u001b[31m\"H09RZ\"\u001b[0m 3,\n",
       " \u001b[31m\"JIIMS3\"\u001b[0m 8,\n",
       " \u001b[31m\"VOR-A\"\u001b[0m 3}\n"
      ]
     },
     "execution_count": 17,
     "metadata": {},
     "output_type": "execute_result"
    }
   ],
   "source": [
    "(def airport-transitions (->> transitions (filter #(= \"KPHL\" ((comp :name :airport) %)))))\n",
    "(frequencies (map :procedure_name airport-transitions))"
   ]
  },
  {
   "cell_type": "code",
   "execution_count": 18,
   "metadata": {},
   "outputs": [
    {
     "data": {
      "text/plain": [
       "\u001b[31m\"total transitions: 8\"\u001b[0m\n"
      ]
     },
     "execution_count": 18,
     "metadata": {},
     "output_type": "execute_result"
    }
   ],
   "source": [
    "(def proc-trans (filter (proc-filter \"JIIMS3\" :airport \"KPHL\" :source \"CIFP\") transitions))\n",
    "(str \"total transitions: \" (count proc-trans))"
   ]
  },
  {
   "cell_type": "code",
   "execution_count": 19,
   "metadata": {},
   "outputs": [
    {
     "data": {
      "text/plain": [
       "\u001b[31m\"4mIH87B6x_AADul,4mIH87B6x_AADuv,4mIH87B6x_AADuw,4mIH87B6x_AADux,4mIH87B6x_AADu0,4mIH87B6x_AADu1,4mIH87B6x_AADu4,4mIH87B6x_AADu5\"\u001b[0m\n"
      ]
     },
     "execution_count": 19,
     "metadata": {},
     "output_type": "execute_result"
    }
   ],
   "source": [
    "(clojure.string/join \",\" (map (comp str get-key :primary_key) proc-trans))"
   ]
  },
  {
   "cell_type": "code",
   "execution_count": 24,
   "metadata": {},
   "outputs": [
    {
     "data": {
      "text/plain": [
       "(\u001b[36mKey<4pvX1Gw_G4AACXi>\u001b[0m)\n"
      ]
     },
     "execution_count": 24,
     "metadata": {},
     "output_type": "execute_result"
    }
   ],
   "source": [
    "(map :primary_key (filter #(= \"KPHL\" ((comp :name :identification) %)) airports))"
   ]
  },
  {
   "cell_type": "code",
   "execution_count": 26,
   "metadata": {},
   "outputs": [
    {
     "data": {
      "text/plain": [
       "\u001b[31mRecord\u001b[0m\n",
       "{\u001b[34m:primary_key\u001b[0m \u001b[36mKey<4Fk9t23D4DAAEpn>\u001b[0m,\n",
       " \u001b[34m:icao_identifier\u001b[0m \u001b[31m\"KPHL\"\u001b[0m,\n",
       " \u001b[34m:ref_point_latitude\u001b[0m 39.872084,\n",
       " \u001b[34m:ref_point_longitude\u001b[0m -75.240663}\n"
      ]
     },
     "execution_count": 26,
     "metadata": {},
     "output_type": "execute_result"
    }
   ],
   "source": [
    "(first (load-data org.mitre.caasd.ttfs.NfdcAirport :dates cyc :columns [:primary_key [:icao_identifier = \"KPHL\"] :ref_point_latitude :ref_point_longitude]))"
   ]
  },
  {
   "cell_type": "markdown",
   "metadata": {},
   "source": [
    "#### Mocking That Business"
   ]
  },
  {
   "cell_type": "code",
   "execution_count": 22,
   "metadata": {
    "jupyter": {
     "source_hidden": true
    }
   },
   "outputs": [
    {
     "data": {
      "text/plain": [
       "#'user/mockitizeMeCaptain\n"
      ]
     },
     "execution_count": 22,
     "metadata": {},
     "output_type": "execute_result"
    }
   ],
   "source": [
    "(defn toMockitoTransitionBody [transition]\n",
    "    (reduce str (->> (:legs transition)\n",
    "     (map #(str \"Leg \" (fixName %) \"=\" (:leg_type %) \" ( \\\"\" (fixName %) \"\\\"\" (fixLatLon %) \"); \\n\")))))\n",
    "\n",
    "(defn toMockitoTransitionMethod [transition] \n",
    "    (let [tname (:transition_name transition)\n",
    "          pname (:procedure_name transition)\n",
    "          aname ((comp :name :airport) transition)]\n",
    "        (str \"private static Transition \" (:transition_name transition) \"(){\\n\"\n",
    "         (toMockitoTransitionBody transition)\n",
    "         \"return transition(\\\"\" tname \"\\\",\\\"\" pname \"\\\",\\\"\" aname \"\\\",,,);\\n}\")))\n",
    "\n",
    "(defn mockitizeMeCaptain [transitions]\n",
    "    (reduce str (->> transitions (map #(str (toMockitoTransitionMethod %) \"\\n\")))))"
   ]
  },
  {
   "cell_type": "code",
   "execution_count": 23,
   "metadata": {},
   "outputs": [
    {
     "data": {
      "text/plain": [
       "\u001b[31m\"private static Transition SWL(){\n",
       "Leg SWL=IF ( \"SWL\" , 38.05659444444444 , -75.46390000000001); \n",
       "Leg RADDS=TF ( \"RADDS\" , 38.648555555555554 , -75.08846666666666); \n",
       "Leg WNSTN=TF ( \"WNSTN\" , 39.09550277777778 , -74.80033333333333); \n",
       "Leg HEKMN=TF ( \"HEKMN\" , 39.377075 , -74.90637222222223); \n",
       "Leg JIIMS=TF ( \"JIIMS\" , 39.53767222222222 , -74.96714444444444); \n",
       "return transition(\"SWL\",\"JIIMS3\",\"KPHL\",,,);\n",
       "}\n",
       "private static Transition RW17(){\n",
       "Leg JIIMS=IF ( \"JIIMS\" , 39.53767222222222 , -74.96714444444444); \n",
       "Leg SNEDE=TF ( \"SNEDE\" , 39.56268055555555 , -75.02313611111111); \n",
       "Leg SNEDE=FM ( \"SNEDE\" , 39.56268055555555 , -75.02313611111111); \n",
       "return transition(\"RW17\",\"JIIMS3\",\"KPHL\",,,);\n",
       "}\n",
       "private static Transition RW09B(){\n",
       "Leg JIIMS=IF ( \"JIIMS\" , 39.53767222222222 , -74.96714444444444); \n",
       "Leg TLUKS=TF ( \"TLUKS\" , 39.56359444444444 , -75.30269166666666); \n",
       "Leg CHEAZ=TF ( \"CHEAZ\" , 39.738327777777776 , -75.37936388888889); \n",
       "Leg STAYK=TF ( \"STAYK\" , 39.70346388888889 , -75.538575); \n",
       "Leg STAYK=FM ( \"STAYK\" , 39.70346388888889 , -75.538575); \n",
       "return transition(\"RW09B\",\"JIIMS3\",\"KPHL\",,,);\n",
       "}\n",
       "private static Transition RW35(){\n",
       "Leg JIIMS=IF ( \"JIIMS\" , 39.53767222222222 , -74.96714444444444); \n",
       "Leg SNEDE=TF ( \"SNEDE\" , 39.56268055555555 , -75.02313611111111); \n",
       "Leg SNEDE=FM ( \"SNEDE\" , 39.56268055555555 , -75.02313611111111); \n",
       "return transition(\"RW35\",\"JIIMS3\",\"KPHL\",,,);\n",
       "}\n",
       "private static Transition RW26(){\n",
       "Leg JIIMS=IF ( \"JIIMS\" , 39.53767222222222 , -74.96714444444444); \n",
       "Leg BEELZ=TF ( \"BEELZ\" , 39.659283333333335 , -75.07007777777777); \n",
       "Leg WOJIK=TF ( \"WOJIK\" , 39.80231666666666 , -75.08707222222222); \n",
       "Leg PSOUT=TF ( \"PSOUT\" , 39.83503888888889 , -74.93254444444445); \n",
       "Leg PSOUT=FM ( \"PSOUT\" , 39.83503888888889 , -74.93254444444445); \n",
       "return transition(\"RW26\",\"JIIMS3\",\"KPHL\",,,);\n",
       "}\n",
       "private static Transition DASHA(){\n",
       "Leg DASHA=IF ( \"DASHA\" , 38.871969444444446 , -74.34454722222222); \n",
       "Leg WNSTN=TF ( \"WNSTN\" , 39.09550277777778 , -74.80033333333333); \n",
       "Leg HEKMN=TF ( \"HEKMN\" , 39.377075 , -74.90637222222223); \n",
       "Leg JIIMS=TF ( \"JIIMS\" , 39.53767222222222 , -74.96714444444444); \n",
       "return transition(\"DASHA\",\"JIIMS3\",\"KPHL\",,,);\n",
       "}\n",
       "private static Transition RW27B(){\n",
       "Leg JIIMS=IF ( \"JIIMS\" , 39.53767222222222 , -74.96714444444444); \n",
       "Leg BEELZ=TF ( \"BEELZ\" , 39.659283333333335 , -75.07007777777777); \n",
       "Leg WOJIK=TF ( \"WOJIK\" , 39.80231666666666 , -75.08707222222222); \n",
       "Leg PSOUT=TF ( \"PSOUT\" , 39.83503888888889 , -74.93254444444445); \n",
       "Leg PSOUT=FM ( \"PSOUT\" , 39.83503888888889 , -74.93254444444445); \n",
       "return transition(\"RW27B\",\"JIIMS3\",\"KPHL\",,,);\n",
       "}\n",
       "private static Transition BRIGS(){\n",
       "Leg BRIGS=IF ( \"BRIGS\" , 39.52353333333333 , -74.13879722222222); \n",
       "Leg IROKT=TF ( \"IROKT\" , 39.53436388888889 , -74.75079722222222); \n",
       "Leg JIIMS=TF ( \"JIIMS\" , 39.53767222222222 , -74.96714444444444); \n",
       "return transition(\"BRIGS\",\"JIIMS3\",\"KPHL\",,,);\n",
       "}\n",
       "\"\u001b[0m\n"
      ]
     },
     "execution_count": 23,
     "metadata": {},
     "output_type": "execute_result"
    }
   ],
   "source": [
    "(mockitizeMeCaptain proc-trans)"
   ]
  },
  {
   "cell_type": "code",
   "execution_count": null,
   "metadata": {},
   "outputs": [],
   "source": []
  }
 ],
 "metadata": {
  "kernelspec": {
   "display_name": "clojure",
   "language": "clojure",
   "name": "serpent"
  },
  "language_info": {
   "file_extension": ".clj",
   "mimetype": "text/x-clojure",
   "name": "clojure",
   "version": "1.10.1"
  }
 },
 "nbformat": 4,
 "nbformat_minor": 4
}
